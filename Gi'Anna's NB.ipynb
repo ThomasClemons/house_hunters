{
 "cells": [
  {
   "cell_type": "code",
   "execution_count": null,
   "id": "f0d9d3bf-1c15-4cff-bbdc-aa9392fb29b8",
   "metadata": {},
   "outputs": [],
   "source": [
    "#house_hunters"
   ]
  }
 ],
 "metadata": {
  "kernelspec": {
   "display_name": "Python 3 (ipykernel)",
   "language": "python",
   "name": "python3"
  },
  "language_info": {
   "codemirror_mode": {
    "name": "ipython",
    "version": 3
   },
   "file_extension": ".py",
   "mimetype": "text/x-python",
   "name": "python",
   "nbconvert_exporter": "python",
   "pygments_lexer": "ipython3",
   "version": "3.11.5"
  }
 },
 "nbformat": 4,
 "nbformat_minor": 5
}
