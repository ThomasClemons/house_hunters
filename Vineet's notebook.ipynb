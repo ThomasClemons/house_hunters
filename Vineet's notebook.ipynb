{
 "cells": [
  {
   "cell_type": "code",
   "execution_count": 1,
   "id": "0194e9b1",
   "metadata": {},
   "outputs": [],
   "source": [
    "import pandas as pd\n",
    "import numpy as np\n",
    "from sklearn.model_selection import train_test_split\n",
    "from sklearn.ensemble import RandomForestRegressor\n",
    "from sklearn.metrics import mean_squared_error, r2_score\n",
    "from sklearn.preprocessing import LabelEncoder"
   ]
  },
  {
   "cell_type": "code",
   "execution_count": 2,
   "id": "81a45932",
   "metadata": {},
   "outputs": [],
   "source": [
    "# Set Max display rows and columns\n",
    "pd.options.display.max_rows=None\n",
    "pd.options.display.max_columns=None"
   ]
  },
  {
   "cell_type": "code",
   "execution_count": 4,
   "id": "418a927f",
   "metadata": {},
   "outputs": [],
   "source": [
    "# Import the data\n",
    "X_train = pd.read_csv('Resources/housing_df_train_clean_revised.csv')\n",
    "X_test = pd.read_csv('Resources/housing_df_test_clean_revised.csv')\n",
    "y_test = pd.read_csv('Resources/housing_df_y_test.csv')\n",
    "y_train = pd.read_csv('Resources/housing_df_y_train.csv')"
   ]
  },
  {
   "cell_type": "code",
   "execution_count": 5,
   "id": "379baa86",
   "metadata": {},
   "outputs": [
    {
     "data": {
      "text/html": [
       "<div>\n",
       "<style scoped>\n",
       "    .dataframe tbody tr th:only-of-type {\n",
       "        vertical-align: middle;\n",
       "    }\n",
       "\n",
       "    .dataframe tbody tr th {\n",
       "        vertical-align: top;\n",
       "    }\n",
       "\n",
       "    .dataframe thead th {\n",
       "        text-align: right;\n",
       "    }\n",
       "</style>\n",
       "<table border=\"1\" class=\"dataframe\">\n",
       "  <thead>\n",
       "    <tr style=\"text-align: right;\">\n",
       "      <th></th>\n",
       "      <th>OverallQual</th>\n",
       "      <th>Foundation</th>\n",
       "      <th>Neighborhood</th>\n",
       "      <th>BsmtFullBath</th>\n",
       "      <th>MSSubClass</th>\n",
       "      <th>Condition1</th>\n",
       "      <th>RoofStyle</th>\n",
       "      <th>GarageType</th>\n",
       "      <th>TotRmsAbvGrd</th>\n",
       "      <th>HouseStyle</th>\n",
       "      <th>GarageFinish</th>\n",
       "      <th>LotConfig</th>\n",
       "      <th>WoodDeckSF</th>\n",
       "      <th>LandSlope</th>\n",
       "      <th>BldgType</th>\n",
       "      <th>FullBath</th>\n",
       "      <th>BsmtFinType1</th>\n",
       "      <th>LotArea</th>\n",
       "      <th>BsmtExposure</th>\n",
       "      <th>OverallCond</th>\n",
       "      <th>FireplaceQu</th>\n",
       "      <th>GarageArea</th>\n",
       "      <th>BedroomAbvGr</th>\n",
       "      <th>Fireplaces</th>\n",
       "    </tr>\n",
       "  </thead>\n",
       "  <tbody>\n",
       "    <tr>\n",
       "      <th>0</th>\n",
       "      <td>0.637073</td>\n",
       "      <td>2</td>\n",
       "      <td>0</td>\n",
       "      <td>-0.813995</td>\n",
       "      <td>1.475911</td>\n",
       "      <td>2</td>\n",
       "      <td>1</td>\n",
       "      <td>1</td>\n",
       "      <td>0.268177</td>\n",
       "      <td>2</td>\n",
       "      <td>1</td>\n",
       "      <td>4</td>\n",
       "      <td>0.458853</td>\n",
       "      <td>0</td>\n",
       "      <td>4</td>\n",
       "      <td>0.772872</td>\n",
       "      <td>3</td>\n",
       "      <td>-0.683950</td>\n",
       "      <td>4</td>\n",
       "      <td>-0.515364</td>\n",
       "      <td>3</td>\n",
       "      <td>-0.192617</td>\n",
       "      <td>-1.112669</td>\n",
       "      <td>0.591298</td>\n",
       "    </tr>\n",
       "    <tr>\n",
       "      <th>1</th>\n",
       "      <td>-0.094926</td>\n",
       "      <td>1</td>\n",
       "      <td>14</td>\n",
       "      <td>1.119464</td>\n",
       "      <td>-0.871228</td>\n",
       "      <td>2</td>\n",
       "      <td>3</td>\n",
       "      <td>1</td>\n",
       "      <td>-0.963076</td>\n",
       "      <td>2</td>\n",
       "      <td>2</td>\n",
       "      <td>4</td>\n",
       "      <td>1.295148</td>\n",
       "      <td>0</td>\n",
       "      <td>0</td>\n",
       "      <td>-1.062909</td>\n",
       "      <td>0</td>\n",
       "      <td>-0.054883</td>\n",
       "      <td>4</td>\n",
       "      <td>0.390453</td>\n",
       "      <td>2</td>\n",
       "      <td>0.030695</td>\n",
       "      <td>0.128036</td>\n",
       "      <td>0.591298</td>\n",
       "    </tr>\n",
       "    <tr>\n",
       "      <th>2</th>\n",
       "      <td>-0.094926</td>\n",
       "      <td>0</td>\n",
       "      <td>7</td>\n",
       "      <td>-0.813995</td>\n",
       "      <td>-0.167086</td>\n",
       "      <td>2</td>\n",
       "      <td>1</td>\n",
       "      <td>5</td>\n",
       "      <td>-0.347450</td>\n",
       "      <td>0</td>\n",
       "      <td>3</td>\n",
       "      <td>4</td>\n",
       "      <td>-0.738046</td>\n",
       "      <td>0</td>\n",
       "      <td>0</td>\n",
       "      <td>-1.062909</td>\n",
       "      <td>5</td>\n",
       "      <td>-0.152524</td>\n",
       "      <td>3</td>\n",
       "      <td>-0.515364</td>\n",
       "      <td>0</td>\n",
       "      <td>-0.938576</td>\n",
       "      <td>-1.112669</td>\n",
       "      <td>-0.961392</td>\n",
       "    </tr>\n",
       "    <tr>\n",
       "      <th>3</th>\n",
       "      <td>-0.826925</td>\n",
       "      <td>1</td>\n",
       "      <td>12</td>\n",
       "      <td>-0.813995</td>\n",
       "      <td>-0.871228</td>\n",
       "      <td>2</td>\n",
       "      <td>3</td>\n",
       "      <td>1</td>\n",
       "      <td>-0.347450</td>\n",
       "      <td>2</td>\n",
       "      <td>2</td>\n",
       "      <td>4</td>\n",
       "      <td>-0.738046</td>\n",
       "      <td>0</td>\n",
       "      <td>0</td>\n",
       "      <td>-1.062909</td>\n",
       "      <td>6</td>\n",
       "      <td>0.144198</td>\n",
       "      <td>4</td>\n",
       "      <td>-0.515364</td>\n",
       "      <td>5</td>\n",
       "      <td>-0.910068</td>\n",
       "      <td>0.128036</td>\n",
       "      <td>0.591298</td>\n",
       "    </tr>\n",
       "    <tr>\n",
       "      <th>4</th>\n",
       "      <td>-0.094926</td>\n",
       "      <td>1</td>\n",
       "      <td>12</td>\n",
       "      <td>-0.813995</td>\n",
       "      <td>-0.871228</td>\n",
       "      <td>2</td>\n",
       "      <td>1</td>\n",
       "      <td>1</td>\n",
       "      <td>0.268177</td>\n",
       "      <td>2</td>\n",
       "      <td>2</td>\n",
       "      <td>4</td>\n",
       "      <td>-0.738046</td>\n",
       "      <td>0</td>\n",
       "      <td>0</td>\n",
       "      <td>-1.062909</td>\n",
       "      <td>5</td>\n",
       "      <td>-0.090142</td>\n",
       "      <td>4</td>\n",
       "      <td>0.390453</td>\n",
       "      <td>0</td>\n",
       "      <td>-0.838798</td>\n",
       "      <td>1.368742</td>\n",
       "      <td>-0.961392</td>\n",
       "    </tr>\n",
       "  </tbody>\n",
       "</table>\n",
       "</div>"
      ],
      "text/plain": [
       "   OverallQual  Foundation  Neighborhood  BsmtFullBath  MSSubClass  \\\n",
       "0     0.637073           2             0     -0.813995    1.475911   \n",
       "1    -0.094926           1            14      1.119464   -0.871228   \n",
       "2    -0.094926           0             7     -0.813995   -0.167086   \n",
       "3    -0.826925           1            12     -0.813995   -0.871228   \n",
       "4    -0.094926           1            12     -0.813995   -0.871228   \n",
       "\n",
       "   Condition1  RoofStyle  GarageType  TotRmsAbvGrd  HouseStyle  GarageFinish  \\\n",
       "0           2          1           1      0.268177           2             1   \n",
       "1           2          3           1     -0.963076           2             2   \n",
       "2           2          1           5     -0.347450           0             3   \n",
       "3           2          3           1     -0.347450           2             2   \n",
       "4           2          1           1      0.268177           2             2   \n",
       "\n",
       "   LotConfig  WoodDeckSF  LandSlope  BldgType  FullBath  BsmtFinType1  \\\n",
       "0          4    0.458853          0         4  0.772872             3   \n",
       "1          4    1.295148          0         0 -1.062909             0   \n",
       "2          4   -0.738046          0         0 -1.062909             5   \n",
       "3          4   -0.738046          0         0 -1.062909             6   \n",
       "4          4   -0.738046          0         0 -1.062909             5   \n",
       "\n",
       "    LotArea  BsmtExposure  OverallCond  FireplaceQu  GarageArea  BedroomAbvGr  \\\n",
       "0 -0.683950             4    -0.515364            3   -0.192617     -1.112669   \n",
       "1 -0.054883             4     0.390453            2    0.030695      0.128036   \n",
       "2 -0.152524             3    -0.515364            0   -0.938576     -1.112669   \n",
       "3  0.144198             4    -0.515364            5   -0.910068      0.128036   \n",
       "4 -0.090142             4     0.390453            0   -0.838798      1.368742   \n",
       "\n",
       "   Fireplaces  \n",
       "0    0.591298  \n",
       "1    0.591298  \n",
       "2   -0.961392  \n",
       "3    0.591298  \n",
       "4   -0.961392  "
      ]
     },
     "execution_count": 5,
     "metadata": {},
     "output_type": "execute_result"
    }
   ],
   "source": [
    "X_train.head()"
   ]
  },
  {
   "cell_type": "code",
   "execution_count": 6,
   "id": "87918907",
   "metadata": {},
   "outputs": [
    {
     "data": {
      "text/html": [
       "<div>\n",
       "<style scoped>\n",
       "    .dataframe tbody tr th:only-of-type {\n",
       "        vertical-align: middle;\n",
       "    }\n",
       "\n",
       "    .dataframe tbody tr th {\n",
       "        vertical-align: top;\n",
       "    }\n",
       "\n",
       "    .dataframe thead th {\n",
       "        text-align: right;\n",
       "    }\n",
       "</style>\n",
       "<table border=\"1\" class=\"dataframe\">\n",
       "  <thead>\n",
       "    <tr style=\"text-align: right;\">\n",
       "      <th></th>\n",
       "      <th>OverallQual</th>\n",
       "      <th>Foundation</th>\n",
       "      <th>Neighborhood</th>\n",
       "      <th>BsmtFullBath</th>\n",
       "      <th>MSSubClass</th>\n",
       "      <th>Condition1</th>\n",
       "      <th>RoofStyle</th>\n",
       "      <th>GarageType</th>\n",
       "      <th>TotRmsAbvGrd</th>\n",
       "      <th>HouseStyle</th>\n",
       "      <th>GarageFinish</th>\n",
       "      <th>LotConfig</th>\n",
       "      <th>WoodDeckSF</th>\n",
       "      <th>LandSlope</th>\n",
       "      <th>BldgType</th>\n",
       "      <th>FullBath</th>\n",
       "      <th>BsmtFinType1</th>\n",
       "      <th>LotArea</th>\n",
       "      <th>BsmtExposure</th>\n",
       "      <th>OverallCond</th>\n",
       "      <th>FireplaceQu</th>\n",
       "      <th>GarageArea</th>\n",
       "      <th>BedroomAbvGr</th>\n",
       "      <th>Fireplaces</th>\n",
       "    </tr>\n",
       "  </thead>\n",
       "  <tbody>\n",
       "    <tr>\n",
       "      <th>0</th>\n",
       "      <td>-0.094926</td>\n",
       "      <td>1</td>\n",
       "      <td>19</td>\n",
       "      <td>-0.813995</td>\n",
       "      <td>-0.871228</td>\n",
       "      <td>2</td>\n",
       "      <td>3</td>\n",
       "      <td>1</td>\n",
       "      <td>-0.347450</td>\n",
       "      <td>2</td>\n",
       "      <td>2</td>\n",
       "      <td>4</td>\n",
       "      <td>0.735061</td>\n",
       "      <td>0</td>\n",
       "      <td>0</td>\n",
       "      <td>-1.062909</td>\n",
       "      <td>3</td>\n",
       "      <td>-0.210929</td>\n",
       "      <td>4</td>\n",
       "      <td>2.202087</td>\n",
       "      <td>0</td>\n",
       "      <td>-1.014597</td>\n",
       "      <td>0.128036</td>\n",
       "      <td>-0.961392</td>\n",
       "    </tr>\n",
       "    <tr>\n",
       "      <th>1</th>\n",
       "      <td>1.369073</td>\n",
       "      <td>2</td>\n",
       "      <td>15</td>\n",
       "      <td>1.119464</td>\n",
       "      <td>0.067628</td>\n",
       "      <td>2</td>\n",
       "      <td>1</td>\n",
       "      <td>1</td>\n",
       "      <td>1.499430</td>\n",
       "      <td>5</td>\n",
       "      <td>2</td>\n",
       "      <td>0</td>\n",
       "      <td>0.689026</td>\n",
       "      <td>0</td>\n",
       "      <td>0</td>\n",
       "      <td>0.772872</td>\n",
       "      <td>3</td>\n",
       "      <td>0.136423</td>\n",
       "      <td>0</td>\n",
       "      <td>-0.515364</td>\n",
       "      <td>5</td>\n",
       "      <td>1.113997</td>\n",
       "      <td>0.128036</td>\n",
       "      <td>2.143989</td>\n",
       "    </tr>\n",
       "    <tr>\n",
       "      <th>2</th>\n",
       "      <td>-0.826925</td>\n",
       "      <td>1</td>\n",
       "      <td>17</td>\n",
       "      <td>-0.813995</td>\n",
       "      <td>-0.636514</td>\n",
       "      <td>0</td>\n",
       "      <td>1</td>\n",
       "      <td>5</td>\n",
       "      <td>-0.963076</td>\n",
       "      <td>2</td>\n",
       "      <td>3</td>\n",
       "      <td>4</td>\n",
       "      <td>-0.738046</td>\n",
       "      <td>0</td>\n",
       "      <td>0</td>\n",
       "      <td>-1.062909</td>\n",
       "      <td>6</td>\n",
       "      <td>-0.161565</td>\n",
       "      <td>4</td>\n",
       "      <td>0.390453</td>\n",
       "      <td>3</td>\n",
       "      <td>-0.558469</td>\n",
       "      <td>-1.112669</td>\n",
       "      <td>0.591298</td>\n",
       "    </tr>\n",
       "    <tr>\n",
       "      <th>3</th>\n",
       "      <td>-0.094926</td>\n",
       "      <td>1</td>\n",
       "      <td>3</td>\n",
       "      <td>-0.813995</td>\n",
       "      <td>-0.167086</td>\n",
       "      <td>1</td>\n",
       "      <td>1</td>\n",
       "      <td>5</td>\n",
       "      <td>0.268177</td>\n",
       "      <td>0</td>\n",
       "      <td>3</td>\n",
       "      <td>0</td>\n",
       "      <td>-0.738046</td>\n",
       "      <td>0</td>\n",
       "      <td>0</td>\n",
       "      <td>0.772872</td>\n",
       "      <td>0</td>\n",
       "      <td>-0.519586</td>\n",
       "      <td>4</td>\n",
       "      <td>1.296270</td>\n",
       "      <td>3</td>\n",
       "      <td>-0.273390</td>\n",
       "      <td>0.128036</td>\n",
       "      <td>2.143989</td>\n",
       "    </tr>\n",
       "    <tr>\n",
       "      <th>4</th>\n",
       "      <td>2.101072</td>\n",
       "      <td>2</td>\n",
       "      <td>23</td>\n",
       "      <td>1.119464</td>\n",
       "      <td>-0.871228</td>\n",
       "      <td>2</td>\n",
       "      <td>3</td>\n",
       "      <td>1</td>\n",
       "      <td>-0.347450</td>\n",
       "      <td>2</td>\n",
       "      <td>1</td>\n",
       "      <td>4</td>\n",
       "      <td>1.011268</td>\n",
       "      <td>0</td>\n",
       "      <td>0</td>\n",
       "      <td>0.772872</td>\n",
       "      <td>3</td>\n",
       "      <td>0.194466</td>\n",
       "      <td>2</td>\n",
       "      <td>-0.515364</td>\n",
       "      <td>1</td>\n",
       "      <td>2.064262</td>\n",
       "      <td>-1.112669</td>\n",
       "      <td>0.591298</td>\n",
       "    </tr>\n",
       "  </tbody>\n",
       "</table>\n",
       "</div>"
      ],
      "text/plain": [
       "   OverallQual  Foundation  Neighborhood  BsmtFullBath  MSSubClass  \\\n",
       "0    -0.094926           1            19     -0.813995   -0.871228   \n",
       "1     1.369073           2            15      1.119464    0.067628   \n",
       "2    -0.826925           1            17     -0.813995   -0.636514   \n",
       "3    -0.094926           1             3     -0.813995   -0.167086   \n",
       "4     2.101072           2            23      1.119464   -0.871228   \n",
       "\n",
       "   Condition1  RoofStyle  GarageType  TotRmsAbvGrd  HouseStyle  GarageFinish  \\\n",
       "0           2          3           1     -0.347450           2             2   \n",
       "1           2          1           1      1.499430           5             2   \n",
       "2           0          1           5     -0.963076           2             3   \n",
       "3           1          1           5      0.268177           0             3   \n",
       "4           2          3           1     -0.347450           2             1   \n",
       "\n",
       "   LotConfig  WoodDeckSF  LandSlope  BldgType  FullBath  BsmtFinType1  \\\n",
       "0          4    0.735061          0         0 -1.062909             3   \n",
       "1          0    0.689026          0         0  0.772872             3   \n",
       "2          4   -0.738046          0         0 -1.062909             6   \n",
       "3          0   -0.738046          0         0  0.772872             0   \n",
       "4          4    1.011268          0         0  0.772872             3   \n",
       "\n",
       "    LotArea  BsmtExposure  OverallCond  FireplaceQu  GarageArea  BedroomAbvGr  \\\n",
       "0 -0.210929             4     2.202087            0   -1.014597      0.128036   \n",
       "1  0.136423             0    -0.515364            5    1.113997      0.128036   \n",
       "2 -0.161565             4     0.390453            3   -0.558469     -1.112669   \n",
       "3 -0.519586             4     1.296270            3   -0.273390      0.128036   \n",
       "4  0.194466             2    -0.515364            1    2.064262     -1.112669   \n",
       "\n",
       "   Fireplaces  \n",
       "0   -0.961392  \n",
       "1    2.143989  \n",
       "2    0.591298  \n",
       "3    2.143989  \n",
       "4    0.591298  "
      ]
     },
     "execution_count": 6,
     "metadata": {},
     "output_type": "execute_result"
    }
   ],
   "source": [
    "X_test.head()"
   ]
  },
  {
   "cell_type": "markdown",
   "id": "e20b854b",
   "metadata": {},
   "source": [
    "## Split into training and testing sets"
   ]
  },
  {
   "cell_type": "code",
   "execution_count": 9,
   "id": "0c429e7e",
   "metadata": {},
   "outputs": [
    {
     "data": {
      "text/html": [
       "<div>\n",
       "<style scoped>\n",
       "    .dataframe tbody tr th:only-of-type {\n",
       "        vertical-align: middle;\n",
       "    }\n",
       "\n",
       "    .dataframe tbody tr th {\n",
       "        vertical-align: top;\n",
       "    }\n",
       "\n",
       "    .dataframe thead th {\n",
       "        text-align: right;\n",
       "    }\n",
       "</style>\n",
       "<table border=\"1\" class=\"dataframe\">\n",
       "  <thead>\n",
       "    <tr style=\"text-align: right;\">\n",
       "      <th></th>\n",
       "      <th>SalePrice</th>\n",
       "    </tr>\n",
       "  </thead>\n",
       "  <tbody>\n",
       "    <tr>\n",
       "      <th>0</th>\n",
       "      <td>154500</td>\n",
       "    </tr>\n",
       "    <tr>\n",
       "      <th>1</th>\n",
       "      <td>325000</td>\n",
       "    </tr>\n",
       "    <tr>\n",
       "      <th>2</th>\n",
       "      <td>115000</td>\n",
       "    </tr>\n",
       "    <tr>\n",
       "      <th>3</th>\n",
       "      <td>159000</td>\n",
       "    </tr>\n",
       "    <tr>\n",
       "      <th>4</th>\n",
       "      <td>315500</td>\n",
       "    </tr>\n",
       "  </tbody>\n",
       "</table>\n",
       "</div>"
      ],
      "text/plain": [
       "   SalePrice\n",
       "0     154500\n",
       "1     325000\n",
       "2     115000\n",
       "3     159000\n",
       "4     315500"
      ]
     },
     "execution_count": 9,
     "metadata": {},
     "output_type": "execute_result"
    }
   ],
   "source": [
    "y_test.head()"
   ]
  },
  {
   "cell_type": "code",
   "execution_count": 10,
   "id": "7a88abcc",
   "metadata": {},
   "outputs": [
    {
     "data": {
      "text/html": [
       "<div>\n",
       "<style scoped>\n",
       "    .dataframe tbody tr th:only-of-type {\n",
       "        vertical-align: middle;\n",
       "    }\n",
       "\n",
       "    .dataframe tbody tr th {\n",
       "        vertical-align: top;\n",
       "    }\n",
       "\n",
       "    .dataframe thead th {\n",
       "        text-align: right;\n",
       "    }\n",
       "</style>\n",
       "<table border=\"1\" class=\"dataframe\">\n",
       "  <thead>\n",
       "    <tr style=\"text-align: right;\">\n",
       "      <th></th>\n",
       "      <th>SalePrice</th>\n",
       "    </tr>\n",
       "  </thead>\n",
       "  <tbody>\n",
       "    <tr>\n",
       "      <th>0</th>\n",
       "      <td>191000</td>\n",
       "    </tr>\n",
       "    <tr>\n",
       "      <th>1</th>\n",
       "      <td>181000</td>\n",
       "    </tr>\n",
       "    <tr>\n",
       "      <th>2</th>\n",
       "      <td>105000</td>\n",
       "    </tr>\n",
       "    <tr>\n",
       "      <th>3</th>\n",
       "      <td>139900</td>\n",
       "    </tr>\n",
       "    <tr>\n",
       "      <th>4</th>\n",
       "      <td>157900</td>\n",
       "    </tr>\n",
       "  </tbody>\n",
       "</table>\n",
       "</div>"
      ],
      "text/plain": [
       "   SalePrice\n",
       "0     191000\n",
       "1     181000\n",
       "2     105000\n",
       "3     139900\n",
       "4     157900"
      ]
     },
     "execution_count": 10,
     "metadata": {},
     "output_type": "execute_result"
    }
   ],
   "source": [
    "y_train.head()"
   ]
  },
  {
   "cell_type": "markdown",
   "id": "87e5d6d8",
   "metadata": {},
   "source": [
    "## Train the models"
   ]
  },
  {
   "cell_type": "code",
   "execution_count": 35,
   "id": "153843a0",
   "metadata": {},
   "outputs": [
    {
     "name": "stderr",
     "output_type": "stream",
     "text": [
      "C:\\Users\\mdadv\\anaconda\\Lib\\site-packages\\sklearn\\base.py:1151: DataConversionWarning: A column-vector y was passed when a 1d array was expected. Please change the shape of y to (n_samples,), for example using ravel().\n",
      "  return fit_method(estimator, *args, **kwargs)\n"
     ]
    },
    {
     "name": "stdout",
     "output_type": "stream",
     "text": [
      "Training Score: 0.970187615366924\n",
      "Testing Score: 0.8633727813979293\n"
     ]
    }
   ],
   "source": [
    "# Create a Random Forest model\n",
    "Regressor = RandomForestRegressor(random_state=13)\n",
    "\n",
    "# Fit (train) the model using the training data\n",
    "Regressor.fit(X_train, y_train)\n",
    "\n",
    "# Evaluate the model\n",
    "print(f'Training Score: {Regressor.score(X_train, y_train)}')\n",
    "print(f'Testing Score: {Regressor.score(X_test, y_test)}')"
   ]
  },
  {
   "cell_type": "code",
   "execution_count": null,
   "id": "5faa9a34",
   "metadata": {},
   "outputs": [],
   "source": [
    "from sklearn.metrics import balanced_accuracy_score"
   ]
  },
  {
   "cell_type": "code",
   "execution_count": 41,
   "id": "a605be7a",
   "metadata": {},
   "outputs": [
    {
     "name": "stderr",
     "output_type": "stream",
     "text": [
      "C:\\Users\\mdadv\\anaconda\\Lib\\site-packages\\sklearn\\base.py:1151: DataConversionWarning: A column-vector y was passed when a 1d array was expected. Please change the shape of y to (n_samples,), for example using ravel().\n",
      "  return fit_method(estimator, *args, **kwargs)\n"
     ]
    },
    {
     "ename": "ValueError",
     "evalue": "Classification metrics can't handle a mix of multiclass and continuous targets",
     "output_type": "error",
     "traceback": [
      "\u001b[1;31m---------------------------------------------------------------------------\u001b[0m",
      "\u001b[1;31mValueError\u001b[0m                                Traceback (most recent call last)",
      "Cell \u001b[1;32mIn[41], line 12\u001b[0m\n\u001b[0;32m      9\u001b[0m train_pred \u001b[38;5;241m=\u001b[39m Reg\u001b[38;5;241m.\u001b[39mpredict(X_train)\n\u001b[0;32m     10\u001b[0m test_pred \u001b[38;5;241m=\u001b[39m Reg\u001b[38;5;241m.\u001b[39mpredict(X_test)\n\u001b[1;32m---> 12\u001b[0m train_score \u001b[38;5;241m=\u001b[39m balanced_accuracy_score(y_train, train_pred)\n\u001b[0;32m     13\u001b[0m test_score \u001b[38;5;241m=\u001b[39m balanced_accuracy_score(y_test, test_pred)\n\u001b[0;32m     15\u001b[0m models[\u001b[38;5;124m'\u001b[39m\u001b[38;5;124mtrain_score\u001b[39m\u001b[38;5;124m'\u001b[39m]\u001b[38;5;241m.\u001b[39mappend(train_score)\n",
      "File \u001b[1;32m~\\anaconda\\Lib\\site-packages\\sklearn\\utils\\_param_validation.py:211\u001b[0m, in \u001b[0;36mvalidate_params.<locals>.decorator.<locals>.wrapper\u001b[1;34m(*args, **kwargs)\u001b[0m\n\u001b[0;32m    205\u001b[0m \u001b[38;5;28;01mtry\u001b[39;00m:\n\u001b[0;32m    206\u001b[0m     \u001b[38;5;28;01mwith\u001b[39;00m config_context(\n\u001b[0;32m    207\u001b[0m         skip_parameter_validation\u001b[38;5;241m=\u001b[39m(\n\u001b[0;32m    208\u001b[0m             prefer_skip_nested_validation \u001b[38;5;129;01mor\u001b[39;00m global_skip_validation\n\u001b[0;32m    209\u001b[0m         )\n\u001b[0;32m    210\u001b[0m     ):\n\u001b[1;32m--> 211\u001b[0m         \u001b[38;5;28;01mreturn\u001b[39;00m func(\u001b[38;5;241m*\u001b[39margs, \u001b[38;5;241m*\u001b[39m\u001b[38;5;241m*\u001b[39mkwargs)\n\u001b[0;32m    212\u001b[0m \u001b[38;5;28;01mexcept\u001b[39;00m InvalidParameterError \u001b[38;5;28;01mas\u001b[39;00m e:\n\u001b[0;32m    213\u001b[0m     \u001b[38;5;66;03m# When the function is just a wrapper around an estimator, we allow\u001b[39;00m\n\u001b[0;32m    214\u001b[0m     \u001b[38;5;66;03m# the function to delegate validation to the estimator, but we replace\u001b[39;00m\n\u001b[0;32m    215\u001b[0m     \u001b[38;5;66;03m# the name of the estimator by the name of the function in the error\u001b[39;00m\n\u001b[0;32m    216\u001b[0m     \u001b[38;5;66;03m# message to avoid confusion.\u001b[39;00m\n\u001b[0;32m    217\u001b[0m     msg \u001b[38;5;241m=\u001b[39m re\u001b[38;5;241m.\u001b[39msub(\n\u001b[0;32m    218\u001b[0m         \u001b[38;5;124mr\u001b[39m\u001b[38;5;124m\"\u001b[39m\u001b[38;5;124mparameter of \u001b[39m\u001b[38;5;124m\\\u001b[39m\u001b[38;5;124mw+ must be\u001b[39m\u001b[38;5;124m\"\u001b[39m,\n\u001b[0;32m    219\u001b[0m         \u001b[38;5;124mf\u001b[39m\u001b[38;5;124m\"\u001b[39m\u001b[38;5;124mparameter of \u001b[39m\u001b[38;5;132;01m{\u001b[39;00mfunc\u001b[38;5;241m.\u001b[39m\u001b[38;5;18m__qualname__\u001b[39m\u001b[38;5;132;01m}\u001b[39;00m\u001b[38;5;124m must be\u001b[39m\u001b[38;5;124m\"\u001b[39m,\n\u001b[0;32m    220\u001b[0m         \u001b[38;5;28mstr\u001b[39m(e),\n\u001b[0;32m    221\u001b[0m     )\n",
      "File \u001b[1;32m~\\anaconda\\Lib\\site-packages\\sklearn\\metrics\\_classification.py:2390\u001b[0m, in \u001b[0;36mbalanced_accuracy_score\u001b[1;34m(y_true, y_pred, sample_weight, adjusted)\u001b[0m\n\u001b[0;32m   2312\u001b[0m \u001b[38;5;129m@validate_params\u001b[39m(\n\u001b[0;32m   2313\u001b[0m     {\n\u001b[0;32m   2314\u001b[0m         \u001b[38;5;124m\"\u001b[39m\u001b[38;5;124my_true\u001b[39m\u001b[38;5;124m\"\u001b[39m: [\u001b[38;5;124m\"\u001b[39m\u001b[38;5;124marray-like\u001b[39m\u001b[38;5;124m\"\u001b[39m],\n\u001b[1;32m   (...)\u001b[0m\n\u001b[0;32m   2320\u001b[0m )\n\u001b[0;32m   2321\u001b[0m \u001b[38;5;28;01mdef\u001b[39;00m \u001b[38;5;21mbalanced_accuracy_score\u001b[39m(y_true, y_pred, \u001b[38;5;241m*\u001b[39m, sample_weight\u001b[38;5;241m=\u001b[39m\u001b[38;5;28;01mNone\u001b[39;00m, adjusted\u001b[38;5;241m=\u001b[39m\u001b[38;5;28;01mFalse\u001b[39;00m):\n\u001b[0;32m   2322\u001b[0m \u001b[38;5;250m    \u001b[39m\u001b[38;5;124;03m\"\"\"Compute the balanced accuracy.\u001b[39;00m\n\u001b[0;32m   2323\u001b[0m \n\u001b[0;32m   2324\u001b[0m \u001b[38;5;124;03m    The balanced accuracy in binary and multiclass classification problems to\u001b[39;00m\n\u001b[1;32m   (...)\u001b[0m\n\u001b[0;32m   2388\u001b[0m \u001b[38;5;124;03m    0.625\u001b[39;00m\n\u001b[0;32m   2389\u001b[0m \u001b[38;5;124;03m    \"\"\"\u001b[39;00m\n\u001b[1;32m-> 2390\u001b[0m     C \u001b[38;5;241m=\u001b[39m confusion_matrix(y_true, y_pred, sample_weight\u001b[38;5;241m=\u001b[39msample_weight)\n\u001b[0;32m   2391\u001b[0m     \u001b[38;5;28;01mwith\u001b[39;00m np\u001b[38;5;241m.\u001b[39merrstate(divide\u001b[38;5;241m=\u001b[39m\u001b[38;5;124m\"\u001b[39m\u001b[38;5;124mignore\u001b[39m\u001b[38;5;124m\"\u001b[39m, invalid\u001b[38;5;241m=\u001b[39m\u001b[38;5;124m\"\u001b[39m\u001b[38;5;124mignore\u001b[39m\u001b[38;5;124m\"\u001b[39m):\n\u001b[0;32m   2392\u001b[0m         per_class \u001b[38;5;241m=\u001b[39m np\u001b[38;5;241m.\u001b[39mdiag(C) \u001b[38;5;241m/\u001b[39m C\u001b[38;5;241m.\u001b[39msum(axis\u001b[38;5;241m=\u001b[39m\u001b[38;5;241m1\u001b[39m)\n",
      "File \u001b[1;32m~\\anaconda\\Lib\\site-packages\\sklearn\\utils\\_param_validation.py:184\u001b[0m, in \u001b[0;36mvalidate_params.<locals>.decorator.<locals>.wrapper\u001b[1;34m(*args, **kwargs)\u001b[0m\n\u001b[0;32m    182\u001b[0m global_skip_validation \u001b[38;5;241m=\u001b[39m get_config()[\u001b[38;5;124m\"\u001b[39m\u001b[38;5;124mskip_parameter_validation\u001b[39m\u001b[38;5;124m\"\u001b[39m]\n\u001b[0;32m    183\u001b[0m \u001b[38;5;28;01mif\u001b[39;00m global_skip_validation:\n\u001b[1;32m--> 184\u001b[0m     \u001b[38;5;28;01mreturn\u001b[39;00m func(\u001b[38;5;241m*\u001b[39margs, \u001b[38;5;241m*\u001b[39m\u001b[38;5;241m*\u001b[39mkwargs)\n\u001b[0;32m    186\u001b[0m func_sig \u001b[38;5;241m=\u001b[39m signature(func)\n\u001b[0;32m    188\u001b[0m \u001b[38;5;66;03m# Map *args/**kwargs to the function signature\u001b[39;00m\n",
      "File \u001b[1;32m~\\anaconda\\Lib\\site-packages\\sklearn\\metrics\\_classification.py:326\u001b[0m, in \u001b[0;36mconfusion_matrix\u001b[1;34m(y_true, y_pred, labels, sample_weight, normalize)\u001b[0m\n\u001b[0;32m    231\u001b[0m \u001b[38;5;129m@validate_params\u001b[39m(\n\u001b[0;32m    232\u001b[0m     {\n\u001b[0;32m    233\u001b[0m         \u001b[38;5;124m\"\u001b[39m\u001b[38;5;124my_true\u001b[39m\u001b[38;5;124m\"\u001b[39m: [\u001b[38;5;124m\"\u001b[39m\u001b[38;5;124marray-like\u001b[39m\u001b[38;5;124m\"\u001b[39m],\n\u001b[1;32m   (...)\u001b[0m\n\u001b[0;32m    242\u001b[0m     y_true, y_pred, \u001b[38;5;241m*\u001b[39m, labels\u001b[38;5;241m=\u001b[39m\u001b[38;5;28;01mNone\u001b[39;00m, sample_weight\u001b[38;5;241m=\u001b[39m\u001b[38;5;28;01mNone\u001b[39;00m, normalize\u001b[38;5;241m=\u001b[39m\u001b[38;5;28;01mNone\u001b[39;00m\n\u001b[0;32m    243\u001b[0m ):\n\u001b[0;32m    244\u001b[0m \u001b[38;5;250m    \u001b[39m\u001b[38;5;124;03m\"\"\"Compute confusion matrix to evaluate the accuracy of a classification.\u001b[39;00m\n\u001b[0;32m    245\u001b[0m \n\u001b[0;32m    246\u001b[0m \u001b[38;5;124;03m    By definition a confusion matrix :math:`C` is such that :math:`C_{i, j}`\u001b[39;00m\n\u001b[1;32m   (...)\u001b[0m\n\u001b[0;32m    324\u001b[0m \u001b[38;5;124;03m    (0, 2, 1, 1)\u001b[39;00m\n\u001b[0;32m    325\u001b[0m \u001b[38;5;124;03m    \"\"\"\u001b[39;00m\n\u001b[1;32m--> 326\u001b[0m     y_type, y_true, y_pred \u001b[38;5;241m=\u001b[39m _check_targets(y_true, y_pred)\n\u001b[0;32m    327\u001b[0m     \u001b[38;5;28;01mif\u001b[39;00m y_type \u001b[38;5;129;01mnot\u001b[39;00m \u001b[38;5;129;01min\u001b[39;00m (\u001b[38;5;124m\"\u001b[39m\u001b[38;5;124mbinary\u001b[39m\u001b[38;5;124m\"\u001b[39m, \u001b[38;5;124m\"\u001b[39m\u001b[38;5;124mmulticlass\u001b[39m\u001b[38;5;124m\"\u001b[39m):\n\u001b[0;32m    328\u001b[0m         \u001b[38;5;28;01mraise\u001b[39;00m \u001b[38;5;167;01mValueError\u001b[39;00m(\u001b[38;5;124m\"\u001b[39m\u001b[38;5;132;01m%s\u001b[39;00m\u001b[38;5;124m is not supported\u001b[39m\u001b[38;5;124m\"\u001b[39m \u001b[38;5;241m%\u001b[39m y_type)\n",
      "File \u001b[1;32m~\\anaconda\\Lib\\site-packages\\sklearn\\metrics\\_classification.py:93\u001b[0m, in \u001b[0;36m_check_targets\u001b[1;34m(y_true, y_pred)\u001b[0m\n\u001b[0;32m     90\u001b[0m     y_type \u001b[38;5;241m=\u001b[39m {\u001b[38;5;124m\"\u001b[39m\u001b[38;5;124mmulticlass\u001b[39m\u001b[38;5;124m\"\u001b[39m}\n\u001b[0;32m     92\u001b[0m \u001b[38;5;28;01mif\u001b[39;00m \u001b[38;5;28mlen\u001b[39m(y_type) \u001b[38;5;241m>\u001b[39m \u001b[38;5;241m1\u001b[39m:\n\u001b[1;32m---> 93\u001b[0m     \u001b[38;5;28;01mraise\u001b[39;00m \u001b[38;5;167;01mValueError\u001b[39;00m(\n\u001b[0;32m     94\u001b[0m         \u001b[38;5;124m\"\u001b[39m\u001b[38;5;124mClassification metrics can\u001b[39m\u001b[38;5;124m'\u001b[39m\u001b[38;5;124mt handle a mix of \u001b[39m\u001b[38;5;132;01m{0}\u001b[39;00m\u001b[38;5;124m and \u001b[39m\u001b[38;5;132;01m{1}\u001b[39;00m\u001b[38;5;124m targets\u001b[39m\u001b[38;5;124m\"\u001b[39m\u001b[38;5;241m.\u001b[39mformat(\n\u001b[0;32m     95\u001b[0m             type_true, type_pred\n\u001b[0;32m     96\u001b[0m         )\n\u001b[0;32m     97\u001b[0m     )\n\u001b[0;32m     99\u001b[0m \u001b[38;5;66;03m# We can't have more than one value on y_type => The set is no more needed\u001b[39;00m\n\u001b[0;32m    100\u001b[0m y_type \u001b[38;5;241m=\u001b[39m y_type\u001b[38;5;241m.\u001b[39mpop()\n",
      "\u001b[1;31mValueError\u001b[0m: Classification metrics can't handle a mix of multiclass and continuous targets"
     ]
    }
   ],
   "source": [
    "# max_depths = range(1, 50)\n",
    "# models = {'train_score': [], 'test_score': [], 'max_depth': []}\n",
    "\n",
    "# # Loop through each value in max_depths\n",
    "# for depth in max_depths:\n",
    "#     Reg = RandomForestRegressor(max_depth = depth)\n",
    "#     Reg.fit(X_train, y_train)\n",
    "\n",
    "#     train_pred = Reg.predict(X_train)\n",
    "#     test_pred = Reg.predict(X_test)\n",
    "\n",
    "#     train_score = balanced_accuracy_score(y_train, train_pred)\n",
    "#     test_score = balanced_accuracy_score(y_test, test_pred)\n",
    "\n",
    "#     models['train_score'].append(train_score)\n",
    "#     models['test_score'].append(test_score)\n",
    "#     models['max_depth'].append(depth)\n",
    "\n",
    "# # Create a dataframe from the models dictionary with max_depth as the index\n",
    "# models_df = pd.DataFrame(models).set_index('max_depth')"
   ]
  },
  {
   "cell_type": "code",
   "execution_count": 36,
   "id": "4213f5ba",
   "metadata": {},
   "outputs": [],
   "source": [
    "# Get the feature importance array\n",
    "feature_importances = Regressor.feature_importances_"
   ]
  },
  {
   "cell_type": "code",
   "execution_count": 38,
   "id": "c33c22ca",
   "metadata": {},
   "outputs": [
    {
     "data": {
      "text/plain": [
       "[(0.6334389817145741, 'OverallQual'),\n",
       " (0.07297963315360301, 'GarageArea'),\n",
       " (0.07020249174435293, 'LotArea'),\n",
       " (0.03513851619166501, 'FullBath'),\n",
       " (0.03322817974282497, 'TotRmsAbvGrd'),\n",
       " (0.02340968965955457, 'Neighborhood'),\n",
       " (0.021948277367383882, 'WoodDeckSF'),\n",
       " (0.01101807366144904, 'GarageType'),\n",
       " (0.010924576313673355, 'FireplaceQu'),\n",
       " (0.009836613884887319, 'BsmtFullBath')]"
      ]
     },
     "execution_count": 38,
     "metadata": {},
     "output_type": "execute_result"
    }
   ],
   "source": [
    " # List the top 10 most important features\n",
    "importances_sorted = sorted(zip(feature_importances, X_train.columns), reverse=True)\n",
    "importances_sorted[:10]"
   ]
  },
  {
   "cell_type": "code",
   "execution_count": 39,
   "id": "589fac90",
   "metadata": {},
   "outputs": [
    {
     "data": {
      "image/png": "[encoded data removed]",
      "text/plain": [
       "<Figure size 800x600 with 1 Axes>"
      ]
     },
     "metadata": {},
     "output_type": "display_data"
    }
   ],
   "source": [
    "# Plot the feature importances\n",
    "features = sorted(zip(X_train.columns, feature_importances), key = lambda x: x[1])\n",
    "cols = [f[0] for f in features]\n",
    "width = [f[1] for f in features]\n",
    "\n",
    "fig, ax = plt.subplots()\n",
    "\n",
    "fig.set_size_inches(8,6)\n",
    "plt.margins(y=0.001)\n",
    "\n",
    "ax.barh(y=cols, width=width)\n",
    "\n",
    "plt.show()"
   ]
  },
  {
   "cell_type": "code",
   "execution_count": 15,
   "id": "3ee77a1e",
   "metadata": {},
   "outputs": [],
   "source": [
    "data = [X_train, X_test, y_train, y_test]"
   ]
  },
  {
   "cell_type": "code",
   "execution_count": 25,
   "id": "f57f2e51",
   "metadata": {},
   "outputs": [],
   "source": [
    "from sklearn.neighbors import KNeighborsRegressor\n",
    "from sklearn.ensemble import RandomForestRegressor, ExtraTreesRegressor, AdaBoostRegressor\n",
    "from sklearn.svm import SVR\n",
    "from sklearn.linear_model import LinearRegression\n",
    "%matplotlib inline\n",
    "from matplotlib import pyplot as plt"
   ]
  },
  {
   "cell_type": "code",
   "execution_count": 26,
   "id": "d8fe02ec",
   "metadata": {},
   "outputs": [],
   "source": [
    " def test_model(model, data):\n",
    "    X_train_scaled, X_test_scaled, y_train, y_test = data\n",
    "    reg = model.fit(X_train_scaled, y_train)\n",
    "    print(f'Model: {type(reg).__name__}')\n",
    "    print(f'Train score: {reg.score(X_train_scaled, y_train)}')\n",
    "    print(f'Test Score: {reg.score(X_test_scaled, y_test)}\\n')\n",
    "    plt.show"
   ]
  },
  {
   "cell_type": "code",
   "execution_count": 27,
   "id": "4442e88e",
   "metadata": {},
   "outputs": [
    {
     "name": "stdout",
     "output_type": "stream",
     "text": [
      "Model: LinearRegression\n",
      "Train score: 0.78348965620523\n",
      "Test Score: 0.783092154767949\n",
      "\n",
      "Model: KNeighborsRegressor\n",
      "Train score: 0.8066471274663299\n",
      "Test Score: 0.7594939833928229\n",
      "\n"
     ]
    },
    {
     "name": "stderr",
     "output_type": "stream",
     "text": [
      "C:\\Users\\mdadv\\anaconda\\Lib\\site-packages\\sklearn\\base.py:1151: DataConversionWarning: A column-vector y was passed when a 1d array was expected. Please change the shape of y to (n_samples,), for example using ravel().\n",
      "  return fit_method(estimator, *args, **kwargs)\n"
     ]
    },
    {
     "name": "stdout",
     "output_type": "stream",
     "text": [
      "Model: RandomForestRegressor\n",
      "Train score: 0.9706708827438936\n",
      "Test Score: 0.8627905059237784\n",
      "\n"
     ]
    },
    {
     "name": "stderr",
     "output_type": "stream",
     "text": [
      "C:\\Users\\mdadv\\anaconda\\Lib\\site-packages\\sklearn\\base.py:1151: DataConversionWarning: A column-vector y was passed when a 1d array was expected. Please change the shape of y to (n_samples,), for example using ravel().\n",
      "  return fit_method(estimator, *args, **kwargs)\n"
     ]
    },
    {
     "name": "stdout",
     "output_type": "stream",
     "text": [
      "Model: ExtraTreesRegressor\n",
      "Train score: 0.9999945925548718\n",
      "Test Score: 0.865067798214272\n",
      "\n"
     ]
    },
    {
     "name": "stderr",
     "output_type": "stream",
     "text": [
      "C:\\Users\\mdadv\\anaconda\\Lib\\site-packages\\sklearn\\utils\\validation.py:1184: DataConversionWarning: A column-vector y was passed when a 1d array was expected. Please change the shape of y to (n_samples, ), for example using ravel().\n",
      "  y = column_or_1d(y, warn=True)\n"
     ]
    },
    {
     "name": "stdout",
     "output_type": "stream",
     "text": [
      "Model: AdaBoostRegressor\n",
      "Train score: 0.8311412213540672\n",
      "Test Score: 0.8156066158255938\n",
      "\n"
     ]
    },
    {
     "name": "stderr",
     "output_type": "stream",
     "text": [
      "C:\\Users\\mdadv\\anaconda\\Lib\\site-packages\\sklearn\\utils\\validation.py:1184: DataConversionWarning: A column-vector y was passed when a 1d array was expected. Please change the shape of y to (n_samples, ), for example using ravel().\n",
      "  y = column_or_1d(y, warn=True)\n"
     ]
    },
    {
     "name": "stdout",
     "output_type": "stream",
     "text": [
      "Model: SVR\n",
      "Train score: -0.04540132850461287\n",
      "Test Score: -0.02563071310491738\n",
      "\n"
     ]
    }
   ],
   "source": [
    "test_model(LinearRegression(), data)\n",
    "\n",
    "test_model(KNeighborsRegressor(), data)\n",
    "test_model(RandomForestRegressor(), data)\n",
    "test_model(ExtraTreesRegressor(), data)\n",
    "test_model(AdaBoostRegressor(), data)\n",
    "test_model(SVR(C=1.0, epsilon=0.2), data)"
   ]
  },
  {
   "cell_type": "code",
   "execution_count": null,
   "id": "3930914e",
   "metadata": {},
   "outputs": [],
   "source": [
    "# Plot the feature importances\n",
    "features = sorted(zip(X.columns, feature_importances), key = lambda x: x[1])\n",
    "cols = [f[0] for f in features]\n",
    "width = [f[1] for f in features]\n",
    "\n",
    "fig, ax = plt.subplots()\n",
    "\n",
    "fig.set_size_inches(8,6)\n",
    "plt.margins(y=0.001)\n",
    "\n",
    "ax.barh(y=cols, width=width)\n",
    "\n",
    "plt.show()"
   ]
  },
  {
   "cell_type": "code",
   "execution_count": null,
   "id": "5c71d6bc",
   "metadata": {},
   "outputs": [],
   "source": []
  },
  {
   "cell_type": "markdown",
   "id": "daacc601",
   "metadata": {},
   "source": [
    "## Evaluate the model"
   ]
  },
  {
   "cell_type": "code",
   "execution_count": null,
   "id": "9ed6d6b7",
   "metadata": {},
   "outputs": [],
   "source": [
    "\n"
   ]
  },
  {
   "cell_type": "code",
   "execution_count": null,
   "id": "02791e1f",
   "metadata": {},
   "outputs": [],
   "source": []
  },
  {
   "cell_type": "code",
   "execution_count": null,
   "id": "5a2a6c7c",
   "metadata": {},
   "outputs": [],
   "source": [
    "\n"
   ]
  },
  {
   "cell_type": "code",
   "execution_count": null,
   "id": "ef24f152",
   "metadata": {
    "scrolled": true
   },
   "outputs": [],
   "source": []
  },
  {
   "cell_type": "code",
   "execution_count": null,
   "id": "4e75f733",
   "metadata": {},
   "outputs": [],
   "source": []
  },
  {
   "cell_type": "code",
   "execution_count": null,
   "id": "8b1e9327",
   "metadata": {},
   "outputs": [],
   "source": []
  },
  {
   "cell_type": "code",
   "execution_count": null,
   "id": "a26cef5d",
   "metadata": {},
   "outputs": [],
   "source": []
  },
  {
   "cell_type": "code",
   "execution_count": null,
   "id": "dc1557b8",
   "metadata": {},
   "outputs": [],
   "source": []
  },
  {
   "cell_type": "code",
   "execution_count": null,
   "id": "0a2d0540",
   "metadata": {},
   "outputs": [],
   "source": []
  },
  {
   "cell_type": "code",
   "execution_count": null,
   "id": "0aa177c0",
   "metadata": {},
   "outputs": [],
   "source": []
  },
  {
   "cell_type": "code",
   "execution_count": null,
   "id": "a2aeb5b5",
   "metadata": {},
   "outputs": [],
   "source": []
  },
  {
   "cell_type": "code",
   "execution_count": null,
   "id": "046a4f3f",
   "metadata": {},
   "outputs": [],
   "source": []
  },
  {
   "cell_type": "code",
   "execution_count": null,
   "id": "2db8954a",
   "metadata": {},
   "outputs": [],
   "source": []
  },
  {
   "cell_type": "code",
   "execution_count": null,
   "id": "2456758c",
   "metadata": {},
   "outputs": [],
   "source": [
    "\n",
    "\n"
   ]
  },
  {
   "cell_type": "code",
   "execution_count": 40,
   "id": "701b3511",
   "metadata": {},
   "outputs": [],
   "source": [
    "\n",
    "\n"
   ]
  },
  {
   "cell_type": "code",
   "execution_count": null,
   "id": "605d6c66",
   "metadata": {},
   "outputs": [],
   "source": []
  },
  {
   "cell_type": "code",
   "execution_count": null,
   "id": "cce59ce6",
   "metadata": {},
   "outputs": [],
   "source": []
  },
  {
   "cell_type": "code",
   "execution_count": null,
   "id": "5e9f6bfd",
   "metadata": {},
   "outputs": [],
   "source": []
  },
  {
   "cell_type": "code",
   "execution_count": null,
   "id": "310fa336",
   "metadata": {},
   "outputs": [],
   "source": [
    "\n"
   ]
  },
  {
   "cell_type": "code",
   "execution_count": null,
   "id": "f5e8e9cd",
   "metadata": {},
   "outputs": [],
   "source": []
  }
 ],
 "metadata": {
  "kernelspec": {
   "display_name": "Python 3 (ipykernel)",
   "language": "python",
   "name": "python3"
  },
  "language_info": {
   "codemirror_mode": {
    "name": "ipython",
    "version": 3
   },
   "file_extension": ".py",
   "mimetype": "text/x-python",
   "name": "python",
   "nbconvert_exporter": "python",
   "pygments_lexer": "ipython3",
   "version": "3.11.5"
  }
 },
 "nbformat": 4,
 "nbformat_minor": 5
}
